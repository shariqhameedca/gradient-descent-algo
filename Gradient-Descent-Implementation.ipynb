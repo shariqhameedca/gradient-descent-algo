{
 "cells": [
  {
   "cell_type": "markdown",
   "id": "f3236897",
   "metadata": {},
   "source": [
    "## Gradient Descent Algorithm"
   ]
  },
  {
   "cell_type": "markdown",
   "id": "926275c7",
   "metadata": {},
   "source": [
    "Gradient Descent is an iterative optimization algorithm used to find a local minimum/maximum of a given function. <br>\n",
    "In this case, we will use GD and its different variations, to fit a straight line through randomly generated data using numpy.<br><br>\n",
    "There are three different types of GD:\n",
    "-  Batch Gradient Descent\n",
    "-  Stochastic Gradient Descent\n",
    "-  Mini-Batch Gradient Descent"
   ]
  },
  {
   "cell_type": "markdown",
   "id": "600398e4",
   "metadata": {},
   "source": [
    "### Importing Libraries"
   ]
  },
  {
   "cell_type": "code",
   "execution_count": 1,
   "id": "efbd4342",
   "metadata": {},
   "outputs": [],
   "source": [
    "import numpy as np\n",
    "from matplotlib import pyplot as plt\n",
    "import seaborn as sns\n",
    "%matplotlib inline"
   ]
  },
  {
   "cell_type": "markdown",
   "id": "37277769",
   "metadata": {},
   "source": [
    "### Creating sample data"
   ]
  },
  {
   "cell_type": "code",
   "execution_count": 2,
   "id": "5b217fb3",
   "metadata": {},
   "outputs": [],
   "source": [
    "X = 2 * np.random.rand(100, 1)\n",
    "y = 4 + 3 * X + np.random.rand(100, 1)"
   ]
  },
  {
   "cell_type": "code",
   "execution_count": 3,
   "id": "cbc79b7e",
   "metadata": {},
   "outputs": [
    {
     "data": {
      "text/plain": [
       "<matplotlib.collections.PathCollection at 0x29f01a6aac0>"
      ]
     },
     "execution_count": 3,
     "metadata": {},
     "output_type": "execute_result"
    },
    {
     "data": {
      "image/png": "[encoded data removed]",
      "text/plain": [
       "<Figure size 432x288 with 1 Axes>"
      ]
     },
     "metadata": {
      "needs_background": "light"
     },
     "output_type": "display_data"
    }
   ],
   "source": [
    "plt.scatter(X, y)"
   ]
  },
  {
   "cell_type": "code",
   "execution_count": 4,
   "id": "c50d1b4b",
   "metadata": {},
   "outputs": [],
   "source": [
    "X_b = np.c_[np.ones((100, 1)), X] "
   ]
  },
  {
   "cell_type": "markdown",
   "id": "da9ae7da",
   "metadata": {},
   "source": [
    "### By Normal Equations"
   ]
  },
  {
   "cell_type": "code",
   "execution_count": 5,
   "id": "16d9040d",
   "metadata": {},
   "outputs": [],
   "source": [
    "theta_best = np.linalg.inv(X_b.T.dot(X_b)).dot(X_b.T).dot(y)"
   ]
  },
  {
   "cell_type": "code",
   "execution_count": 6,
   "id": "374680b7",
   "metadata": {},
   "outputs": [
    {
     "data": {
      "text/plain": [
       "array([[4.35684971],\n",
       "       [3.08452543]])"
      ]
     },
     "execution_count": 6,
     "metadata": {},
     "output_type": "execute_result"
    }
   ],
   "source": [
    "theta_best"
   ]
  },
  {
   "cell_type": "code",
   "execution_count": 7,
   "id": "0daea502",
   "metadata": {},
   "outputs": [],
   "source": [
    "X_check = np.array([[2], [0]])\n",
    "X_check = np.c_[np.ones((2, 1)), X_check]"
   ]
  },
  {
   "cell_type": "code",
   "execution_count": 8,
   "id": "316a34fb",
   "metadata": {},
   "outputs": [],
   "source": [
    "y_check = X_check.dot(theta_best)"
   ]
  },
  {
   "cell_type": "code",
   "execution_count": 9,
   "id": "1371062a",
   "metadata": {},
   "outputs": [
    {
     "data": {
      "text/plain": [
       "array([[10.52590057],\n",
       "       [ 4.35684971]])"
      ]
     },
     "execution_count": 9,
     "metadata": {},
     "output_type": "execute_result"
    }
   ],
   "source": [
    "y_check"
   ]
  },
  {
   "cell_type": "code",
   "execution_count": 10,
   "id": "3c53181e",
   "metadata": {},
   "outputs": [
    {
     "data": {
      "image/png": "[encoded data removed]",
      "text/plain": [
       "<Figure size 432x288 with 1 Axes>"
      ]
     },
     "metadata": {
      "needs_background": "light"
     },
     "output_type": "display_data"
    }
   ],
   "source": [
    "plt.plot(X_check, y_check, \"r-\")\n",
    "plt.plot(X, y, \"b.\")\n",
    "plt.axis([0, 2, 0, 15])\n",
    "plt.show()"
   ]
  },
  {
   "cell_type": "markdown",
   "id": "1dd2bd4e",
   "metadata": {},
   "source": [
    "### LinearRegression from Scikit Learn uses SVD"
   ]
  },
  {
   "cell_type": "markdown",
   "id": "b97701f1",
   "metadata": {},
   "source": [
    "The LinearRegression uses a Standard Matrix Factorization Technique called SVD. SVD computes the pseudo-inverse.<br>\n",
    "In some cases, the matrix X can be singular, which means that its inverse is not possible. In that case, we find its pseudo inverse."
   ]
  },
  {
   "cell_type": "code",
   "execution_count": 11,
   "id": "49697e45",
   "metadata": {},
   "outputs": [
    {
     "data": {
      "text/plain": [
       "(array([4.35684971]), array([[3.08452543]]))"
      ]
     },
     "execution_count": 11,
     "metadata": {},
     "output_type": "execute_result"
    }
   ],
   "source": [
    "from sklearn.linear_model import LinearRegression\n",
    "\n",
    "model = LinearRegression()\n",
    "model.fit(X, y)\n",
    "model.intercept_, model.coef_"
   ]
  },
  {
   "cell_type": "markdown",
   "id": "b7b9a2fd",
   "metadata": {},
   "source": [
    "### Why we use GD?"
   ]
  },
  {
   "cell_type": "markdown",
   "id": "01dcb41d",
   "metadata": {},
   "source": [
    "Normal equations are good when it comes to data having relatively less features. But it gets computationally complex as the number of features increases <br><br>\n",
    "The time complexity of inverting a matrix in case of normal equations is O(N^3), where N is the number of features.\n",
    "<br>\n",
    "Time complexity of computing pseudo inverse using SVD is O(N^2)\n",
    "<br><br>\n",
    "Hence, we need an iterative technique which is computationally less complex. This is where GD comes into play."
   ]
  },
  {
   "cell_type": "markdown",
   "id": "3d8b0f13",
   "metadata": {},
   "source": [
    "### Batch Gradient Descent"
   ]
  },
  {
   "cell_type": "markdown",
   "id": "92870410",
   "metadata": {},
   "source": [
    "In case of Batch Gradient Descent, we take the whole training set and use it to compute the cost function. This not only makes it slow but it also makes Batch GD prone to getting stuck at local minima. <br>\n",
    "<br> In case of Linear Regression, we don't have to care about local minima because the Cost Function for LR is a convex function. "
   ]
  },
  {
   "cell_type": "code",
   "execution_count": 12,
   "id": "6f84aea6",
   "metadata": {},
   "outputs": [],
   "source": [
    "class batch_GD:\n",
    "    \n",
    "    # Constructor\n",
    "    def __init__(self, iters, rate):\n",
    "        self.iters = iters\n",
    "        self.rate = rate\n",
    "      \n",
    "    # This method is used to fit the model to the training data\n",
    "    def fit(self, X_train, y_train):\n",
    "        self.X_train = X_train\n",
    "        self.y_train = y_train\n",
    "        m = len(X_train)\n",
    "        \n",
    "        X_train = np.c_[np.ones((m, 1)), X_train]\n",
    "        \n",
    "        theta = np.random.rand(X_train[0].shape[0],1)\n",
    "\n",
    "        for i in range(self.iters):\n",
    "            g_vector = 2/m * X_train.T.dot(X_train.dot(theta) - y_train)\n",
    "            theta = theta - self.rate * g_vector\n",
    "        \n",
    "        self.theta_ = theta\n",
    "        return theta\n",
    "    \n",
    "    # This method is used to predict based on the learned model\n",
    "    def predict(self, X_test):\n",
    "        self.X_test = X_test\n",
    "        y_test = X_test.dot(self.theta_)\n",
    "        \n",
    "        return y_test"
   ]
  },
  {
   "cell_type": "code",
   "execution_count": 13,
   "id": "6f39d004",
   "metadata": {},
   "outputs": [],
   "source": [
    "batch_obj = batch_GD(1000,0.1)"
   ]
  },
  {
   "cell_type": "code",
   "execution_count": 14,
   "id": "1db08533",
   "metadata": {},
   "outputs": [
    {
     "data": {
      "text/plain": [
       "array([[4.35684971],\n",
       "       [3.08452543]])"
      ]
     },
     "execution_count": 14,
     "metadata": {},
     "output_type": "execute_result"
    }
   ],
   "source": [
    "batch_obj.fit(X, y)"
   ]
  },
  {
   "cell_type": "code",
   "execution_count": 15,
   "id": "3364038b",
   "metadata": {},
   "outputs": [
    {
     "data": {
      "text/plain": [
       "array([[4.35684971],\n",
       "       [3.08452543]])"
      ]
     },
     "execution_count": 15,
     "metadata": {},
     "output_type": "execute_result"
    }
   ],
   "source": [
    "batch_obj.theta_"
   ]
  },
  {
   "cell_type": "code",
   "execution_count": 16,
   "id": "f161e809",
   "metadata": {},
   "outputs": [
    {
     "data": {
      "text/plain": [
       "array([[10.52590057],\n",
       "       [ 4.35684971]])"
      ]
     },
     "execution_count": 16,
     "metadata": {},
     "output_type": "execute_result"
    }
   ],
   "source": [
    "batch_obj.predict(X_check)"
   ]
  },
  {
   "cell_type": "markdown",
   "id": "5bab5318",
   "metadata": {},
   "source": [
    "### Stochastic Gradient Descent"
   ]
  },
  {
   "cell_type": "markdown",
   "id": "2769ab53",
   "metadata": {},
   "source": [
    "In case of Stochastic Gradient Descent, we take a random instance from our training set and use it to compute our cost function. <br>\n",
    "<br>\n",
    "This makes SGD able to escape any local minima because random instances makes Cost Function change erratically. But we don't want it to change this erratically all the time, so we decrease the learning rate slowly. <br>"
   ]
  },
  {
   "cell_type": "code",
   "execution_count": 17,
   "id": "da497472",
   "metadata": {},
   "outputs": [],
   "source": [
    "class stochastic_GD:\n",
    "    \n",
    "    # Constructor\n",
    "    def __init__(self, epochs, T):\n",
    "        self.epochs = epochs\n",
    "        self.t0 = T[0]\n",
    "        self.t1 = T[1]\n",
    "       \n",
    "    # This method is used to fit the model to the training data\n",
    "    def fit(self, X_train, y_train):\n",
    "        self.X_train = X_train\n",
    "        self.y_train = y_train\n",
    "        \n",
    "        m = len(X_train)\n",
    "        X_train = np.c_[np.ones((m, 1)), X_train]\n",
    "        theta = np.random.rand(X_train[0].shape[0], 1)\n",
    "        \n",
    "        for epoch in range(self.epochs):\n",
    "            for i in range(m):\n",
    "                index = np.random.randint(m)\n",
    "                xi = X_train[index:index+1]\n",
    "                yi = y_train[index:index+1]\n",
    "                gradients = 2 * xi.T.dot(xi.dot(theta) - yi)\n",
    "                rate = self.learning_schedule(epoch * m + i)\n",
    "                theta = theta - rate * gradients\n",
    "        \n",
    "        self.theta_ = theta\n",
    "        return theta\n",
    "    \n",
    "    # This method decreases the learning rate over time\n",
    "    def learning_schedule(self, t):\n",
    "        self.t = t\n",
    "        return self.t0/(t + self.t1)\n",
    "    \n",
    "    # This method is used to predict values\n",
    "    def predict(self, X_test):\n",
    "        self.X_test = X_test\n",
    "        y_test = X_test.dot(self.theta_)\n",
    "        \n",
    "        return y_test"
   ]
  },
  {
   "cell_type": "code",
   "execution_count": 18,
   "id": "a472bfd0",
   "metadata": {},
   "outputs": [],
   "source": [
    "stochastic_obj = stochastic_GD(50, T=(5,10))"
   ]
  },
  {
   "cell_type": "code",
   "execution_count": 19,
   "id": "e73c4ff8",
   "metadata": {},
   "outputs": [
    {
     "data": {
      "text/plain": [
       "array([[4.33552442],\n",
       "       [3.09330839]])"
      ]
     },
     "execution_count": 19,
     "metadata": {},
     "output_type": "execute_result"
    }
   ],
   "source": [
    "stochastic_obj.fit(X, y)"
   ]
  },
  {
   "cell_type": "code",
   "execution_count": 20,
   "id": "2a2e91ec",
   "metadata": {},
   "outputs": [
    {
     "data": {
      "text/plain": [
       "array([[10.5221412 ],\n",
       "       [ 4.33552442]])"
      ]
     },
     "execution_count": 20,
     "metadata": {},
     "output_type": "execute_result"
    }
   ],
   "source": [
    "stochastic_obj.predict(X_check)"
   ]
  },
  {
   "cell_type": "code",
   "execution_count": 21,
   "id": "209ea125",
   "metadata": {},
   "outputs": [
    {
     "data": {
      "text/plain": [
       "array([[4.33552442],\n",
       "       [3.09330839]])"
      ]
     },
     "execution_count": 21,
     "metadata": {},
     "output_type": "execute_result"
    }
   ],
   "source": [
    "stochastic_obj.theta_"
   ]
  },
  {
   "cell_type": "markdown",
   "id": "acf0b2bb",
   "metadata": {},
   "source": [
    "### Mini-Batch Gradient Descent"
   ]
  },
  {
   "cell_type": "markdown",
   "id": "21dc64eb",
   "metadata": {},
   "source": [
    "In case of Mini-Batch Algorithm, we try to find the middle way between BGD and SGD. <br>\n",
    "Instead of taking whole dataset or a random instance from the dataset, we take subsets of the dataset (called mini-batches, hence the name Mini-Batch GD) and use them to compute the cost function."
   ]
  },
  {
   "cell_type": "code",
   "execution_count": 26,
   "id": "3e5790ee",
   "metadata": {},
   "outputs": [],
   "source": [
    "class mini_batch_SD:\n",
    "    \n",
    "    # Constructor \n",
    "    def __init__(self, batch_size, rate, epochs):\n",
    "        self.batch_size = batch_size\n",
    "        self.rate = rate\n",
    "        self.epochs = epochs\n",
    "        \n",
    "    # This method is used to create mini-batches\n",
    "    def create_batches(self, X_train, y_train):\n",
    "        self.X_train = X_train\n",
    "        self.y_train = y_train\n",
    "        \n",
    "        mini_batches = []\n",
    "        data = np.stack((X_train, y_train), axis=1)\n",
    "        no_of_batches = X_train.shape[0] // self.batch_size\n",
    "        for i in range(no_of_batches):\n",
    "            mini_batch = data[i*self.batch_size: (i+1)*self.batch_size]\n",
    "            mini_batches.append((mini_batch[:, 0], mini_batch[:, 1]))\n",
    "\n",
    "        if (X_train.shape[0] % self.batch_size)!=0:\n",
    "            mini_batch = data[i*batch_size:]\n",
    "            mini_batches.append((mini_batch[:, 0], mini_batch[:, 1]))\n",
    "\n",
    "        self.mini_batches = mini_batches\n",
    "    \n",
    "    # This method fits the model to the mini-batches iteratively\n",
    "    def fit(self):\n",
    "        x = self.mini_batches[0][0].shape[1] + 1\n",
    "        theta = np.random.rand(x,1)\n",
    "        for epoch in range(self.epochs):\n",
    "            for mini_batch in self.mini_batches:\n",
    "                X_c = []\n",
    "                for i in range(self.batch_size):\n",
    "                    x = mini_batch[0][i]\n",
    "                    xc = np.c_[np.ones((1,1)), x]      \n",
    "                    X_c.append(xc[0])\n",
    "                X_c = np.array(X_c)\n",
    "                yi = mini_batch[1]\n",
    "                gradients = 2/self.batch_size * X_c.T.dot(X_c.dot(theta) - yi)\n",
    "                theta = theta - self.rate * gradients\n",
    "                \n",
    "        self.theta_ = theta        \n",
    "        return theta\n",
    "    \n",
    "    # This method is used to predict based on the learned model\n",
    "    def predict(self, X_test):\n",
    "        self.X_test = X_test\n",
    "        y_test = X_test.dot(self.theta_)\n",
    "        \n",
    "        return y_test\n",
    "    \n",
    "    "
   ]
  },
  {
   "cell_type": "code",
   "execution_count": 27,
   "id": "490505de",
   "metadata": {},
   "outputs": [],
   "source": [
    "mini_batch_obj = mini_batch_SD(4,0.1,100)"
   ]
  },
  {
   "cell_type": "code",
   "execution_count": 28,
   "id": "710c4932",
   "metadata": {},
   "outputs": [],
   "source": [
    "mini_batch_obj.create_batches(X,y)"
   ]
  },
  {
   "cell_type": "code",
   "execution_count": 29,
   "id": "73b86d0b",
   "metadata": {},
   "outputs": [
    {
     "data": {
      "text/plain": [
       "array([[4.33652066],\n",
       "       [3.09034444]])"
      ]
     },
     "execution_count": 29,
     "metadata": {},
     "output_type": "execute_result"
    }
   ],
   "source": [
    "mini_batch_obj.fit()"
   ]
  },
  {
   "cell_type": "code",
   "execution_count": 30,
   "id": "d02547c5",
   "metadata": {},
   "outputs": [
    {
     "data": {
      "text/plain": [
       "array([[10.51720954],\n",
       "       [ 4.33652066]])"
      ]
     },
     "execution_count": 30,
     "metadata": {},
     "output_type": "execute_result"
    }
   ],
   "source": [
    "mini_batch_obj.predict(X_check)"
   ]
  },
  {
   "cell_type": "code",
   "execution_count": 31,
   "id": "dee35011",
   "metadata": {},
   "outputs": [
    {
     "data": {
      "text/plain": [
       "array([[4.33652066],\n",
       "       [3.09034444]])"
      ]
     },
     "execution_count": 31,
     "metadata": {},
     "output_type": "execute_result"
    }
   ],
   "source": [
    "mini_batch_obj.theta_"
   ]
  }
 ],
 "metadata": {
  "kernelspec": {
   "display_name": "Python 3",
   "language": "python",
   "name": "python3"
  },
  "language_info": {
   "codemirror_mode": {
    "name": "ipython",
    "version": 3
   },
   "file_extension": ".py",
   "mimetype": "text/x-python",
   "name": "python",
   "nbconvert_exporter": "python",
   "pygments_lexer": "ipython3",
   "version": "3.8.8"
  }
 },
 "nbformat": 4,
 "nbformat_minor": 5
}
